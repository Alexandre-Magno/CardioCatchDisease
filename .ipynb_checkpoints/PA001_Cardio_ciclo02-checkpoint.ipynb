{
 "cells": [
  {
   "cell_type": "markdown",
   "metadata": {},
   "source": [
    "# 0.0 Imports "
   ]
  },
  {
   "cell_type": "code",
   "execution_count": 167,
   "metadata": {
    "ExecuteTime": {
     "end_time": "2021-03-10T20:45:40.028948Z",
     "start_time": "2021-03-10T20:45:40.021666Z"
    }
   },
   "outputs": [],
   "source": [
    "import random\n",
    "\n",
    "import numpy   as np\n",
    "import pandas  as pd\n",
    "import seaborn as sns\n",
    "import xgboost as xgb\n",
    "\n",
    "\n",
    "from IPython.display      import Image\n",
    "from pandas_profiling     import ProfileReport\n",
    "from IPython.core.display import HTML\n",
    "\n",
    "from boruta                        import BorutaPy\n",
    "from sklearn                       import tree\n",
    "from sklearn                       import svm\n",
    "from lightgbm                      import LGBMClassifier\n",
    "from sklearn.dummy                 import DummyClassifier\n",
    "from sklearn.metrics               import classification_report\n",
    "from sklearn.metrics               import precision_score, accuracy_score, f1_score, recall_score\n",
    "from sklearn.ensemble              import RandomForestClassifier\n",
    "from sklearn.neighbors             import NearestCentroid\n",
    "from sklearn.naive_bayes           import GaussianNB\n",
    "from sklearn.linear_model          import LogisticRegression,SGDClassifier\n",
    "from sklearn.model_selection       import StratifiedKFold, cross_val_score, train_test_split, RandomizedSearchCV\n",
    "from sklearn.discriminant_analysis import LinearDiscriminantAnalysis\n"
   ]
  },
  {
   "cell_type": "markdown",
   "metadata": {
    "ExecuteTime": {
     "end_time": "2021-02-04T12:20:32.956674Z",
     "start_time": "2021-02-04T12:20:32.953852Z"
    }
   },
   "source": [
    "## 0.1 Helper functions"
   ]
  },
  {
   "cell_type": "code",
   "execution_count": 136,
   "metadata": {
    "ExecuteTime": {
     "end_time": "2021-03-10T20:26:06.723070Z",
     "start_time": "2021-03-10T20:26:06.719276Z"
    },
    "code_folding": []
   },
   "outputs": [],
   "source": [
    "def calculate_model_metrics( y_test, y_pred ):\n",
    "    \n",
    "    #calculate precision\n",
    "    precision = precision_score( y_test, y_pred)\n",
    "\n",
    "    #calculate accuracy\n",
    "    accuracy = accuracy_score( y_test, y_pred)\n",
    "\n",
    "    #calculate f1_score\n",
    "    f1 = f1_score( y_test, y_pred)\n",
    "\n",
    "    #calculate recall\n",
    "    recall = recall_score( y_test, y_pred)\n",
    "    \n",
    "    return precision, accuracy, f1, recall\n",
    "    def get_classifiers_performance(X_train, X_test, y_train, y_test, classifiers):\n",
    "\n",
    "        # creates empty data frame\n",
    "        df_performance = pd.DataFrame()\n",
    "\n",
    "        for clf in classifiers:\n",
    "            print(\"Training \" + type(clf).__name__ + \"...\")\n",
    "            # fits the classifier to training data\n",
    "            clf.fit(X_train, y_train)\n",
    "\n",
    "            # predict the probabilities\n",
    "            y_pred = clf.predict(X_test)\n",
    "\n",
    "            # calculates model metrics\n",
    "            clf_precision, clf_accuracy, clf_f1, clf_recall = calculate_model_metrics( y_test, y_pred)\n",
    "\n",
    "            # creates a dict\n",
    "            clf_dict = {\n",
    "                'model': [type(clf).__name__, '---'],\n",
    "                'precision': [clf_precision, np.nan],\n",
    "                'recall': [clf_recall, np.nan],\n",
    "                'f1-Score': [clf_f1, np.nan],\n",
    "                'accuracy': [clf_accuracy, np.nan]}\n",
    "\n",
    "            # concatenate Data Frames\n",
    "            df_performance = pd.concat([df_performance, pd.DataFrame(clf_dict)])\n",
    "\n",
    "        # resets Data Frame index\n",
    "        df_performance = df_performance.reset_index()\n",
    "\n",
    "        # drops index\n",
    "        df_performance.drop('index', axis=1, inplace=True)\n",
    "\n",
    "        # gets only the odd numbered rows\n",
    "        rows_to_drop = np.arange(1, len(classifiers)*2, 2)\n",
    "\n",
    "        # drops unwanted rows that have no data\n",
    "        df_performance.drop(rows_to_drop, inplace=True)\n",
    "\n",
    "        # returns performance summary\n",
    "        return df_performance\n"
   ]
  },
  {
   "cell_type": "code",
   "execution_count": 137,
   "metadata": {
    "ExecuteTime": {
     "end_time": "2021-03-10T20:26:07.394880Z",
     "start_time": "2021-03-10T20:26:07.386422Z"
    }
   },
   "outputs": [],
   "source": [
    "def jupyter_settings():\n",
    "    %matplotlib inline\n",
    "    %pylab inline\n",
    "    \n",
    "    plt.style.use( 'bmh' )\n",
    "    plt.rcParams['figure.figsize'] = [20, 10]\n",
    "    plt.rcParams['font.size'] = 24\n",
    "    \n",
    "    display( HTML( '<style>.container { width:100% !important; }</style>') )\n",
    "    pd.options.display.max_columns = None\n",
    "    pd.options.display.max_rows = None\n",
    "    pd.set_option( 'display.expand_frame_repr', False )\n",
    "    \n",
    "    sns.set()"
   ]
  },
  {
   "cell_type": "code",
   "execution_count": 121,
   "metadata": {
    "ExecuteTime": {
     "end_time": "2021-03-10T20:20:30.195478Z",
     "start_time": "2021-03-10T20:20:30.189647Z"
    }
   },
   "outputs": [
    {
     "name": "stdout",
     "output_type": "stream",
     "text": [
      "Populating the interactive namespace from numpy and matplotlib\n"
     ]
    },
    {
     "name": "stderr",
     "output_type": "stream",
     "text": [
      "/home/pc/anaconda/lib/python3.7/site-packages/IPython/core/magics/pylab.py:160: UserWarning: pylab import has clobbered these variables: ['f']\n",
      "`%matplotlib` prevents importing * from pylab and numpy\n",
      "  \"\\n`%matplotlib` prevents importing * from pylab and numpy\"\n"
     ]
    },
    {
     "data": {
      "text/html": [
       "<style>.container { width:100% !important; }</style>"
      ],
      "text/plain": [
       "<IPython.core.display.HTML object>"
      ]
     },
     "metadata": {},
     "output_type": "display_data"
    }
   ],
   "source": [
    "jupyter_settings()\n",
    "pd.set_option('display.float_format', lambda x: '%.5f' % x)"
   ]
  },
  {
   "cell_type": "markdown",
   "metadata": {
    "heading_collapsed": true
   },
   "source": [
    "## 0.2 Data Loading"
   ]
  },
  {
   "cell_type": "code",
   "execution_count": 4,
   "metadata": {
    "ExecuteTime": {
     "end_time": "2021-03-10T14:38:31.779294Z",
     "start_time": "2021-03-10T14:38:31.736794Z"
    },
    "hidden": true
   },
   "outputs": [],
   "source": [
    "#open csv file\n",
    "\n",
    "df_raw = pd.read_csv('../data/cardio_train.csv')\n"
   ]
  },
  {
   "cell_type": "markdown",
   "metadata": {
    "heading_collapsed": true
   },
   "source": [
    "# 1.0 Data Description"
   ]
  },
  {
   "cell_type": "code",
   "execution_count": 6,
   "metadata": {
    "ExecuteTime": {
     "end_time": "2021-03-10T14:38:39.418502Z",
     "start_time": "2021-03-10T14:38:39.414634Z"
    },
    "hidden": true
   },
   "outputs": [],
   "source": [
    "df1 = df_raw.copy()"
   ]
  },
  {
   "cell_type": "markdown",
   "metadata": {
    "hidden": true
   },
   "source": [
    "## 1.1 Rename Columns "
   ]
  },
  {
   "cell_type": "code",
   "execution_count": null,
   "metadata": {
    "ExecuteTime": {
     "end_time": "2021-03-02T17:44:33.790792Z",
     "start_time": "2021-03-02T17:44:33.788197Z"
    },
    "hidden": true,
    "hide_input": true
   },
   "outputs": [],
   "source": [
    "df1.columns\n"
   ]
  },
  {
   "cell_type": "raw",
   "metadata": {
    "hidden": true
   },
   "source": [
    "Don't need to rename any columns"
   ]
  },
  {
   "cell_type": "markdown",
   "metadata": {
    "hidden": true
   },
   "source": [
    "## 1.2 Data Dimensions"
   ]
  },
  {
   "cell_type": "code",
   "execution_count": null,
   "metadata": {
    "ExecuteTime": {
     "end_time": "2021-03-02T17:44:33.794281Z",
     "start_time": "2021-03-02T17:44:33.791942Z"
    },
    "hidden": true,
    "hide_input": true
   },
   "outputs": [],
   "source": [
    "print(\"Number of rows {}\".format(df1.shape[0]))\n",
    "print(\"Number of cols {}\".format(df1.shape[1]))"
   ]
  },
  {
   "cell_type": "markdown",
   "metadata": {
    "hidden": true
   },
   "source": [
    "## 1.3 Data Types "
   ]
  },
  {
   "cell_type": "code",
   "execution_count": null,
   "metadata": {
    "ExecuteTime": {
     "end_time": "2021-03-02T17:44:33.799116Z",
     "start_time": "2021-03-02T17:44:33.795787Z"
    },
    "hidden": true,
    "hide_input": true
   },
   "outputs": [],
   "source": [
    "df1.dtypes"
   ]
  },
  {
   "cell_type": "markdown",
   "metadata": {
    "hidden": true
   },
   "source": [
    "## 1.4 Check NA \n"
   ]
  },
  {
   "cell_type": "code",
   "execution_count": null,
   "metadata": {
    "ExecuteTime": {
     "end_time": "2021-03-02T17:44:33.808076Z",
     "start_time": "2021-03-02T17:44:33.800476Z"
    },
    "hidden": true,
    "hide_input": true
   },
   "outputs": [],
   "source": [
    "df1.isna().sum()\n"
   ]
  },
  {
   "cell_type": "raw",
   "metadata": {
    "hidden": true
   },
   "source": [
    "As observed, don't has NA in the dataset"
   ]
  },
  {
   "cell_type": "markdown",
   "metadata": {
    "hidden": true
   },
   "source": [
    "## 1.5 Descriptive Statistical"
   ]
  },
  {
   "cell_type": "code",
   "execution_count": null,
   "metadata": {
    "ExecuteTime": {
     "end_time": "2021-03-02T17:44:33.990280Z",
     "start_time": "2021-03-02T17:44:33.809192Z"
    },
    "hidden": true,
    "hide_input": true
   },
   "outputs": [],
   "source": [
    "#Central tendency - mean, median\n",
    "ct1 = pd.DataFrame(df1.apply(np.mean)).T\n",
    "ct2 = pd.DataFrame(df1.apply(np.median)).T\n",
    "\n",
    "#dispersion - std, min, max,  range, skew, kurtosis\n",
    "d1 = pd.DataFrame(df1.apply(np.std)).T\n",
    "d2 = pd.DataFrame(df1.apply(min)).T\n",
    "d3 = pd.DataFrame(df1.apply(max)).T\n",
    "d4 = pd.DataFrame(df1.apply(lambda x: x.max() - x.min())).T\n",
    "d5 = pd.DataFrame(df1.apply(lambda x: x.skew())).T\n",
    "d6 = pd.DataFrame(df1.apply(lambda x: x.kurtosis())).T\n",
    "\n",
    "#concatenate\n",
    "m = pd.concat([d2,d3,d4,ct1,ct2,d1,d5,d6]).T.reset_index()\n",
    "\n",
    "m.columns = ['Atrib.','min','max','range','mean','median','std','skew','kurtosis']"
   ]
  },
  {
   "cell_type": "code",
   "execution_count": null,
   "metadata": {
    "ExecuteTime": {
     "end_time": "2021-03-02T17:44:34.002215Z",
     "start_time": "2021-03-02T17:44:33.991473Z"
    },
    "hidden": true,
    "hide_input": true
   },
   "outputs": [],
   "source": [
    "m"
   ]
  },
  {
   "cell_type": "raw",
   "metadata": {
    "hidden": true
   },
   "source": [
    "Temos quatros pontos principais para analisar:\n",
    "    Menor altura 55 cm e maior altura 250 cm ?\n",
    "    menor peso 10 kg e maior peso 200 kg?\n",
    "    Menor ap_hi -150 e maior 16020?\n",
    "    Menor ap_lo -70 e maior 11000?\n",
    "    \n",
    "    \n",
    "    "
   ]
  },
  {
   "cell_type": "markdown",
   "metadata": {
    "heading_collapsed": true
   },
   "source": [
    "# 2.0 Feature Engineering"
   ]
  },
  {
   "cell_type": "code",
   "execution_count": 7,
   "metadata": {
    "ExecuteTime": {
     "end_time": "2021-03-10T14:38:41.804800Z",
     "start_time": "2021-03-10T14:38:41.800694Z"
    },
    "hidden": true
   },
   "outputs": [],
   "source": [
    "df2 =df1.copy()"
   ]
  },
  {
   "cell_type": "markdown",
   "metadata": {
    "ExecuteTime": {
     "end_time": "2021-02-08T15:19:49.887525Z",
     "start_time": "2021-02-08T15:19:49.885472Z"
    },
    "hidden": true
   },
   "source": [
    "## 2.1 Mind Map"
   ]
  },
  {
   "cell_type": "code",
   "execution_count": null,
   "metadata": {
    "ExecuteTime": {
     "end_time": "2021-03-02T17:44:34.015259Z",
     "start_time": "2021-03-02T17:44:34.008977Z"
    },
    "hidden": true
   },
   "outputs": [],
   "source": [
    "Image('img/mind_map_cardio.png')"
   ]
  },
  {
   "cell_type": "markdown",
   "metadata": {
    "ExecuteTime": {
     "end_time": "2021-02-08T15:19:49.887525Z",
     "start_time": "2021-02-08T15:19:49.885472Z"
    },
    "hidden": true
   },
   "source": [
    "## 2.1 Criação de Hipóteses"
   ]
  },
  {
   "cell_type": "markdown",
   "metadata": {
    "ExecuteTime": {
     "end_time": "2021-02-08T15:20:12.177670Z",
     "start_time": "2021-02-08T15:20:12.174769Z"
    },
    "hidden": true
   },
   "source": [
    "1. pessoas acima do peso deveriam ser mais propensas a ter cardio disease\n",
    "\n",
    "2. pessoas acima do peso e fumantes deveriam ser mais propensas a ter cardio disease\n",
    "\n",
    "3. pessoas acima do peso,fumantes e que não fazem atividade fisica deveriam ser mais propensas a ter cardio disease\n",
    "\n",
    "4. pessoas fumantes e com colesterol muito acima do normal deveriam ser mais propensas a ter cardio disease\n",
    "\n",
    "5. Homens com colesterol acima do normal e que não praticam atividade fisica deveriam ter mais chance de ter cardio disease\n",
    "\n",
    "6. pessoas que com glicose mto acima do normal e colesterol mto acima do normal e que não praticam atividade fisica deveriam ser mais propensas a ter cardio disease\n",
    "\n",
    "7. pessoas mais velhas e acima do peso deveriam ser mais propensas a ter cardio disease\n",
    "\n",
    "8. pessoas mais velhas e com o colesterol mto acima do normal deveriam ser mais propensas a ter cardio disease\n",
    "\n",
    "9. Homens deveriam ter mais chance de adquirir cardio disease do que as mulheres\n",
    "\n",
    "10. homens que fumam e bembe deveriam ter mais chances do que mulheres que fumam e bebem."
   ]
  },
  {
   "cell_type": "markdown",
   "metadata": {
    "hidden": true
   },
   "source": [
    "## 2.2 Feature Engineering"
   ]
  },
  {
   "cell_type": "code",
   "execution_count": 8,
   "metadata": {
    "ExecuteTime": {
     "end_time": "2021-03-10T14:38:45.090394Z",
     "start_time": "2021-03-10T14:38:43.928555Z"
    },
    "hidden": true
   },
   "outputs": [],
   "source": [
    "#blood_pressure\n",
    "# 1 - ap_hi < 120 e ap_lo < 80 \n",
    "# 2 -  120<= ap_hi <= 129 e ap_lo < 80\n",
    "# 3 -  130<= ap_hi <= 139 e 80 <= ap_lo <= 89\n",
    "# 4 -  139 < ap_hi  e 89 < ap_lo \n",
    "\n",
    "df2['blood_pressure'] = df2.apply( (lambda x: 1 if (x['ap_hi'] < 120) & (x['ap_lo'] <= 80) else 2 if (120 <= x['ap_hi'] <= 129) & (x['ap_lo'] < 80) else 3 if (130 <= x['ap_hi'] < 139) or ( 80 <= x['ap_lo'] <= 89) else 4 ),axis =1 ) \n",
    "\n",
    " \n",
    "    \n",
    "\n"
   ]
  },
  {
   "cell_type": "code",
   "execution_count": 9,
   "metadata": {
    "ExecuteTime": {
     "end_time": "2021-03-10T14:38:45.132701Z",
     "start_time": "2021-03-10T14:38:45.091391Z"
    },
    "hidden": true
   },
   "outputs": [],
   "source": [
    "#IMC = WEIGHT/HEIGHT^2\n",
    "df2['height2'] = df2['height']/100\n",
    "\n",
    "df2['imc'] = (df2['weight']/(df2['height2']**2))"
   ]
  },
  {
   "cell_type": "code",
   "execution_count": 10,
   "metadata": {
    "ExecuteTime": {
     "end_time": "2021-03-10T14:38:45.885532Z",
     "start_time": "2021-03-10T14:38:45.133941Z"
    },
    "hidden": true
   },
   "outputs": [],
   "source": [
    "#imc_type\n",
    "df2['imc_type'] = df2.apply( (lambda x : 1 if x['imc'] < 18.5 else 2 if  18.5 <= x['imc'] < 25.0 else 3 if 25 <= x['imc'] < 30.0 else 4 if  30.0 <= x['imc'] < 35.0 else 5 if 35 <= x['imc'] < 40.0 else 6) ,axis=1)"
   ]
  },
  {
   "cell_type": "code",
   "execution_count": 12,
   "metadata": {
    "ExecuteTime": {
     "end_time": "2021-03-10T14:39:00.814336Z",
     "start_time": "2021-03-10T14:39:00.794628Z"
    },
    "hidden": true
   },
   "outputs": [],
   "source": [
    "#numero de pessoas com cardio por idade\n",
    "df2['age_years'] = df2['age'].apply(lambda x: x/365)\n",
    "\n",
    "#arredondar\n",
    "\n",
    "df2['age_years'] = round(df2['age_years'], ndigits=0).astype(int)\n",
    "\n"
   ]
  },
  {
   "cell_type": "markdown",
   "metadata": {
    "ExecuteTime": {
     "end_time": "2021-02-09T16:54:32.488453Z",
     "start_time": "2021-02-09T16:54:32.485991Z"
    },
    "hidden": true
   },
   "source": [
    "## 2.3 Exclusão de colunas auxiliares"
   ]
  },
  {
   "cell_type": "code",
   "execution_count": 13,
   "metadata": {
    "ExecuteTime": {
     "end_time": "2021-03-10T14:39:02.066921Z",
     "start_time": "2021-03-10T14:39:02.057470Z"
    },
    "hidden": true
   },
   "outputs": [],
   "source": [
    "cols_drop = ['height2','imc']\n",
    "df2 = df2.drop(cols_drop,axis=1)"
   ]
  },
  {
   "cell_type": "markdown",
   "metadata": {
    "ExecuteTime": {
     "end_time": "2021-02-08T22:19:15.930348Z",
     "start_time": "2021-02-08T22:19:15.922176Z"
    }
   },
   "source": [
    "# 3.0 EDA"
   ]
  },
  {
   "cell_type": "code",
   "execution_count": 14,
   "metadata": {
    "ExecuteTime": {
     "end_time": "2021-03-10T14:39:03.046043Z",
     "start_time": "2021-03-10T14:39:03.041915Z"
    }
   },
   "outputs": [],
   "source": [
    "df3 = df2.copy()"
   ]
  },
  {
   "cell_type": "markdown",
   "metadata": {},
   "source": [
    "## 3.1 Analise Univariada"
   ]
  },
  {
   "cell_type": "markdown",
   "metadata": {
    "hide_input": false
   },
   "source": [
    "### 3.1.2 Variaveis Numericas "
   ]
  },
  {
   "cell_type": "code",
   "execution_count": null,
   "metadata": {
    "ExecuteTime": {
     "end_time": "2021-03-02T17:44:38.001604Z",
     "start_time": "2021-03-02T17:44:36.090136Z"
    },
    "hide_input": false
   },
   "outputs": [],
   "source": [
    "df3.hist(bins=25);"
   ]
  },
  {
   "cell_type": "code",
   "execution_count": null,
   "metadata": {
    "ExecuteTime": {
     "end_time": "2021-02-14T14:58:02.453211Z",
     "start_time": "2021-02-14T14:57:45.276269Z"
    }
   },
   "outputs": [],
   "source": [
    "#more detailed plot of variables\n",
    "\n",
    "#ProfileReport(df3, title=\"Pandas Profiling Report\")\n"
   ]
  },
  {
   "cell_type": "markdown",
   "metadata": {},
   "source": [
    "## 3.2 Analise Bivariada "
   ]
  },
  {
   "cell_type": "markdown",
   "metadata": {},
   "source": [
    "### H1- Pessoas acima  do peso ideal(levando em consideração o IMC) deveriam ser mais propensas a ter cardio disease\n",
    "**TRUE** pessoas acima do seu ideal são mais propensas a ter cardio disease"
   ]
  },
  {
   "cell_type": "code",
   "execution_count": null,
   "metadata": {
    "ExecuteTime": {
     "end_time": "2021-03-02T17:44:38.186431Z",
     "start_time": "2021-03-02T17:44:38.002744Z"
    },
    "hide_input": true
   },
   "outputs": [],
   "source": [
    "\n",
    "#plots graph\n",
    "sns.countplot(x='imc_type', hue='cardio', data=df3);\n",
    "\n",
    "#label\n",
    "plt.title(\"Cardio por Tipo IMC\");\n",
    "plt.xlabel(\"Tipos de IMC\");\n",
    "plt.ylabel(\"Quantidade\");\n",
    "\n",
    "#plt.show()\n",
    "\n",
    "\n",
    "\n",
    "\n",
    "\n"
   ]
  },
  {
   "cell_type": "markdown",
   "metadata": {},
   "source": [
    "### H2- Pessoas mais velhas  deveriam ser mais propensas a ter cardio disease\n",
    "**TRUE** Pessoas mais velhas tem um indice maior de cardio disease"
   ]
  },
  {
   "cell_type": "code",
   "execution_count": null,
   "metadata": {
    "ExecuteTime": {
     "end_time": "2021-03-02T17:44:38.560011Z",
     "start_time": "2021-03-02T17:44:38.205911Z"
    },
    "hide_input": false
   },
   "outputs": [],
   "source": [
    "\n",
    "#plot graph\n",
    "sns.countplot(x='age_years',hue='cardio',data=df3);\n",
    "\n"
   ]
  },
  {
   "cell_type": "markdown",
   "metadata": {},
   "source": [
    "### H3- Pessoas que fumam deveriam ser mais propensas a ter cardio disease\n",
    "**FALSE** pessoas que NÃO FUMAM tem um indice MAIOR de ter cardio diseas"
   ]
  },
  {
   "cell_type": "code",
   "execution_count": null,
   "metadata": {
    "ExecuteTime": {
     "end_time": "2021-03-02T17:44:38.684543Z",
     "start_time": "2021-03-02T17:44:38.561971Z"
    },
    "hide_input": false
   },
   "outputs": [],
   "source": [
    "\n",
    "\n",
    "#plots graph\n",
    "sns.countplot(x='smoke',hue='cardio', data=df3);\n",
    "\n",
    "\n"
   ]
  },
  {
   "cell_type": "markdown",
   "metadata": {},
   "source": [
    "### H4- Pessoas que bebem alcool deveriam ser mais propensas a ter cardio disease\n",
    "**False** Pessoas que BEBEM NÃO TEM mais propensão para cardio disease"
   ]
  },
  {
   "cell_type": "code",
   "execution_count": null,
   "metadata": {
    "ExecuteTime": {
     "end_time": "2021-03-02T17:44:38.809224Z",
     "start_time": "2021-03-02T17:44:38.685615Z"
    }
   },
   "outputs": [],
   "source": [
    "#plot graph\n",
    "sns.countplot(x='alco',hue='cardio',data =df3);\n",
    "\n",
    "\n",
    "plt.xlabel(\"Consome Alcool?\");"
   ]
  },
  {
   "cell_type": "markdown",
   "metadata": {},
   "source": [
    "### H5- Pessoas que não praticam atividade fisica deveriam ser mais propensas a ter cardio disease\n",
    "**Verdade** "
   ]
  },
  {
   "cell_type": "code",
   "execution_count": null,
   "metadata": {
    "ExecuteTime": {
     "end_time": "2021-03-02T17:44:38.932999Z",
     "start_time": "2021-03-02T17:44:38.810072Z"
    },
    "hide_input": false
   },
   "outputs": [],
   "source": [
    "#plot graph\n",
    "sns.countplot(x='active', hue= 'cardio',data = df3);\n",
    "\n",
    "plt.xlabel(\"pratica atividade fisica?\");\n"
   ]
  },
  {
   "cell_type": "markdown",
   "metadata": {},
   "source": [
    "### H6- Pessoas que tem o colesterol muito acima do normal deveriam ser mais propensas a ter cardio disease\n",
    "**VERDADE**"
   ]
  },
  {
   "cell_type": "code",
   "execution_count": null,
   "metadata": {
    "ExecuteTime": {
     "end_time": "2021-03-02T17:44:39.069021Z",
     "start_time": "2021-03-02T17:44:38.933796Z"
    },
    "hide_input": false
   },
   "outputs": [],
   "source": [
    "#plot graph\n",
    "sns.countplot(x = 'cholesterol', hue= 'cardio', data = df3);\n",
    "\n",
    "plt.xticks(ticks=[0,1,2],labels=['Normal','Acima do Normal','Muito acima do normal']);\n",
    "plt.xlabel(\"Nivel de colesterol\");\n"
   ]
  },
  {
   "cell_type": "markdown",
   "metadata": {},
   "source": [
    "### H7- Pessoas que tem o blood pressure 3 e 4 deveriam ser mais propensas a ter cardio disease\n",
    "**Apenas pessoas com blood pressure 4 tem mais propensão**"
   ]
  },
  {
   "cell_type": "code",
   "execution_count": null,
   "metadata": {
    "ExecuteTime": {
     "end_time": "2021-03-02T17:44:39.225578Z",
     "start_time": "2021-03-02T17:44:39.069895Z"
    }
   },
   "outputs": [],
   "source": [
    "#plot graph\n",
    "sns.countplot(x='blood_pressure', hue = 'cardio' ,data = df3);\n",
    "\n"
   ]
  },
  {
   "cell_type": "markdown",
   "metadata": {},
   "source": [
    "### H8- Pessoas que tem nivel de glicose mais alto deveriam ser mais propensas a ter cardio disease\n",
    "**VERDADE**"
   ]
  },
  {
   "cell_type": "code",
   "execution_count": null,
   "metadata": {
    "ExecuteTime": {
     "end_time": "2021-03-02T17:44:39.381546Z",
     "start_time": "2021-03-02T17:44:39.226887Z"
    }
   },
   "outputs": [],
   "source": [
    "\n",
    "#plot graph\n",
    "sns.countplot(x = 'gluc' , hue = 'cardio',data = df3);\n",
    "\n",
    "plt.title(\"Cardio por Nivel de Glicose\",fontsize=20);\n",
    "plt.xlabel(\"Nivel de Glicose\");\n",
    "plt.ylabel(\"Quantidade\")\n",
    "plt.xticks(ticks=[0,1,2],labels=['Normal','Acima do normal','Muito acima do normal']);\n"
   ]
  },
  {
   "cell_type": "markdown",
   "metadata": {},
   "source": [
    "### H9 Homens deveriam ter mais chance de adquirir cardio disease do que as mulheres.\n",
    "**FALSO**\n",
    "\n"
   ]
  },
  {
   "cell_type": "code",
   "execution_count": null,
   "metadata": {
    "ExecuteTime": {
     "end_time": "2021-03-02T17:44:39.515098Z",
     "start_time": "2021-03-02T17:44:39.382497Z"
    }
   },
   "outputs": [],
   "source": [
    "\n",
    "sns.countplot(x = 'gender', hue = 'cardio', data = df3);\n",
    "plt.title(\"Cardio Por Genero\");\n",
    "plt.xticks(ticks=[0,1],labels=['Homem','Mulher']);\n"
   ]
  },
  {
   "cell_type": "markdown",
   "metadata": {},
   "source": [
    "### H10 homens que fumam deveriam ter mais chances do que mulheres que fumam \n",
    "**True**"
   ]
  },
  {
   "cell_type": "code",
   "execution_count": null,
   "metadata": {
    "ExecuteTime": {
     "end_time": "2021-03-02T17:44:40.002777Z",
     "start_time": "2021-03-02T17:44:39.516004Z"
    }
   },
   "outputs": [],
   "source": [
    "\n",
    "sns.barplot(x = 'smoke', y = 'cardio', hue = 'gender', data = df3);\n",
    "\n"
   ]
  },
  {
   "cell_type": "markdown",
   "metadata": {},
   "source": [
    "## 3.3 Analise Multivariada "
   ]
  },
  {
   "cell_type": "markdown",
   "metadata": {},
   "source": [
    "### 3.3.1 Variaveis numericas "
   ]
  },
  {
   "cell_type": "code",
   "execution_count": null,
   "metadata": {
    "ExecuteTime": {
     "end_time": "2021-03-02T17:44:41.307510Z",
     "start_time": "2021-03-02T17:44:40.003909Z"
    },
    "hide_input": false
   },
   "outputs": [],
   "source": [
    "#Image('img/Pearson.png')\n",
    "num = df3.select_dtypes(include = ['float64', 'int64'])\n",
    "corre = num.corr(method = 'pearson')\n",
    "sns.heatmap(corre,annot=True);"
   ]
  },
  {
   "cell_type": "markdown",
   "metadata": {},
   "source": [
    "### 3.3.2 Variaveis Categoricas\n"
   ]
  },
  {
   "cell_type": "code",
   "execution_count": null,
   "metadata": {
    "ExecuteTime": {
     "end_time": "2021-03-02T17:44:41.312705Z",
     "start_time": "2021-03-02T17:44:41.308515Z"
    },
    "hide_input": true
   },
   "outputs": [],
   "source": [
    "Image('img/Cramer.png')"
   ]
  },
  {
   "cell_type": "markdown",
   "metadata": {
    "heading_collapsed": true
   },
   "source": [
    "# 4.0 Data Preparation "
   ]
  },
  {
   "cell_type": "code",
   "execution_count": 15,
   "metadata": {
    "ExecuteTime": {
     "end_time": "2021-03-10T14:39:11.686526Z",
     "start_time": "2021-03-10T14:39:11.681910Z"
    },
    "hidden": true
   },
   "outputs": [],
   "source": [
    "df4 = df3.copy()"
   ]
  },
  {
   "cell_type": "markdown",
   "metadata": {
    "heading_collapsed": true
   },
   "source": [
    "# 5.0 Feature Selection"
   ]
  },
  {
   "cell_type": "code",
   "execution_count": 16,
   "metadata": {
    "ExecuteTime": {
     "end_time": "2021-03-10T14:39:12.926359Z",
     "start_time": "2021-03-10T14:39:12.921747Z"
    },
    "hidden": true
   },
   "outputs": [],
   "source": [
    "df5 = df4.copy()"
   ]
  },
  {
   "cell_type": "markdown",
   "metadata": {
    "ExecuteTime": {
     "end_time": "2021-02-22T13:45:42.580145Z",
     "start_time": "2021-02-22T13:45:42.567410Z"
    },
    "hidden": true
   },
   "source": [
    "## 5.1 split train and test dataset "
   ]
  },
  {
   "cell_type": "code",
   "execution_count": 17,
   "metadata": {
    "ExecuteTime": {
     "end_time": "2021-03-10T14:39:14.206582Z",
     "start_time": "2021-03-10T14:39:14.193530Z"
    },
    "hidden": true
   },
   "outputs": [],
   "source": [
    "#training data set\n",
    "x_train, x_test, y_train, y_test = train_test_split(df5,df5['cardio'], random_state = 42, test_size= 0.25)"
   ]
  },
  {
   "cell_type": "code",
   "execution_count": 18,
   "metadata": {
    "ExecuteTime": {
     "end_time": "2021-03-10T14:39:14.616323Z",
     "start_time": "2021-03-10T14:39:14.608130Z"
    },
    "hidden": true
   },
   "outputs": [],
   "source": [
    "#delete columns\n",
    "x_train = x_train.drop( [ 'id','cardio','age_years'], axis=1 )\n",
    "x_test = x_test.drop( ['id','cardio','age_years'], axis=1  )\n",
    "\n"
   ]
  },
  {
   "cell_type": "code",
   "execution_count": 19,
   "metadata": {
    "ExecuteTime": {
     "end_time": "2021-03-10T14:39:15.485057Z",
     "start_time": "2021-03-10T14:39:15.482742Z"
    },
    "hidden": true
   },
   "outputs": [],
   "source": [
    "#training dataset for cross validation\n",
    "x_train_cv = x_train\n",
    "y_train_cv = y_train"
   ]
  },
  {
   "cell_type": "markdown",
   "metadata": {
    "ExecuteTime": {
     "end_time": "2021-02-22T13:56:00.560308Z",
     "start_time": "2021-02-22T13:56:00.548839Z"
    },
    "hidden": true
   },
   "source": [
    "## 5.2 Boruta as Feature Selector"
   ]
  },
  {
   "cell_type": "raw",
   "metadata": {
    "ExecuteTime": {
     "end_time": "2021-02-25T22:06:29.000555Z",
     "start_time": "2021-02-25T22:06:20.553536Z"
    },
    "hidden": true
   },
   "source": [
    "#prepare datasets to boruta\n",
    "x_train_boruta = x_train.values\n",
    "y_train_boruta = y_train.ravel()\n",
    "\n",
    "#define random forest\n",
    "rf = RandomForestClassifier(n_jobs = -1)\n",
    "\n",
    "#define Boruta\n",
    "boruta = BorutaPy( rf, n_estimators='auto',verbose = 2,random_state=33).fit(x_train_boruta, y_train_boruta )\n",
    "\n",
    "cols_selected = boruta.support_.tolist()\n"
   ]
  },
  {
   "cell_type": "raw",
   "metadata": {
    "ExecuteTime": {
     "end_time": "2021-03-02T17:43:12.512695Z",
     "start_time": "2021-03-02T17:43:12.425023Z"
    },
    "hidden": true
   },
   "source": [
    "cols_selected = boruta.support_.tolist()"
   ]
  },
  {
   "cell_type": "markdown",
   "metadata": {
    "ExecuteTime": {
     "end_time": "2021-02-22T14:02:33.513206Z",
     "start_time": "2021-02-22T14:02:33.509216Z"
    }
   },
   "source": [
    "# 6.0 Machine Learning Models"
   ]
  },
  {
   "cell_type": "code",
   "execution_count": 20,
   "metadata": {
    "ExecuteTime": {
     "end_time": "2021-03-10T14:39:20.686019Z",
     "start_time": "2021-03-10T14:39:20.681507Z"
    }
   },
   "outputs": [],
   "source": [
    "df6 = df5.copy()"
   ]
  },
  {
   "cell_type": "markdown",
   "metadata": {},
   "source": [
    "## 6.1 Dummy Classifier - Baseline "
   ]
  },
  {
   "cell_type": "raw",
   "metadata": {
    "ExecuteTime": {
     "end_time": "2021-02-25T23:05:39.045892Z",
     "start_time": "2021-02-25T23:05:39.018540Z"
    }
   },
   "source": [
    "#MODEL\n",
    "dum = DummyClassifier().fit(x_train, y_train)\n",
    "\n",
    "#predictions\n",
    "yhat_dummy = dum.predict( x_test)\n",
    "\n",
    "#perfomance\n",
    "dum_result = classification_report(y_test, yhat_dummy)\n",
    "\n",
    "print(dum_result)"
   ]
  },
  {
   "cell_type": "markdown",
   "metadata": {},
   "source": [
    "## 6.2 Nearest Centroid Classifier"
   ]
  },
  {
   "cell_type": "raw",
   "metadata": {
    "ExecuteTime": {
     "end_time": "2021-02-25T23:30:16.082597Z",
     "start_time": "2021-02-25T23:30:16.024086Z"
    }
   },
   "source": [
    "\n",
    "#MODEL\n",
    "nc1 = nc.fit(x_train, y_train)\n",
    "\n",
    "#predictions\n",
    "yhat_nc1 = nc.predict( x_test)\n",
    "\n",
    "#perfomance\n",
    "nc_result = classification_report(y_test, yhat_nc1 )\n",
    "\n",
    "print(nc_result)"
   ]
  },
  {
   "cell_type": "markdown",
   "metadata": {},
   "source": [
    "## 6.3 Decision Tree Classifier \n",
    "\n",
    "\n"
   ]
  },
  {
   "cell_type": "raw",
   "metadata": {
    "ExecuteTime": {
     "end_time": "2021-02-25T22:06:29.351849Z",
     "start_time": "2021-02-25T22:06:29.064675Z"
    }
   },
   "source": [
    "#MODEL\n",
    "dtc = tree.DecisionTreeClassifier().fit(x_train, y_train)\n",
    "\n",
    "#predictions\n",
    "yhat_dtc = dtc.predict( x_test)\n",
    "\n",
    "#perfomance\n",
    "dtc_result = classification_report(y_test, yhat_dtc )\n",
    "print(dtc_result)"
   ]
  },
  {
   "cell_type": "markdown",
   "metadata": {},
   "source": [
    "## 6.4 Naive Bayes\n"
   ]
  },
  {
   "cell_type": "raw",
   "metadata": {
    "ExecuteTime": {
     "end_time": "2021-02-25T22:06:29.385356Z",
     "start_time": "2021-02-25T22:06:29.352727Z"
    }
   },
   "source": [
    "#MODEL\n",
    "gnb = GaussianNB().fit(x_train, y_train)\n",
    "\n",
    "#predictions\n",
    "yhat_gnb = gnb.predict( x_test)\n",
    "\n",
    "#perfomance\n",
    "gnb_result = classification_report(y_test, yhat_gnb )\n",
    "print(gnb_result)"
   ]
  },
  {
   "cell_type": "markdown",
   "metadata": {},
   "source": [
    "## 6.5 Logistic Regression"
   ]
  },
  {
   "cell_type": "raw",
   "metadata": {
    "ExecuteTime": {
     "end_time": "2021-02-25T22:06:29.645403Z",
     "start_time": "2021-02-25T22:06:29.386183Z"
    },
    "scrolled": true
   },
   "source": [
    "#MODEL\n",
    "lr = LogisticRegression().fit(x_train, y_train)\n",
    "\n",
    "#predictions\n",
    "yhat_lr = lr.predict( x_test)\n",
    "\n",
    "#perfomance\n",
    "lr_result = classification_report(y_test, yhat_lr )\n",
    "print(lr_result)"
   ]
  },
  {
   "cell_type": "markdown",
   "metadata": {},
   "source": [
    "## 6.6 LDA classifier"
   ]
  },
  {
   "cell_type": "raw",
   "metadata": {
    "ExecuteTime": {
     "end_time": "2021-02-25T23:57:34.980170Z",
     "start_time": "2021-02-25T23:57:34.891990Z"
    }
   },
   "source": [
    "#MODEL\n",
    "lda = LinearDiscriminantAnalysis().fit(x_train, y_train)\n",
    "\n",
    "#predictions\n",
    "yhat_lda = lda.predict( x_test)\n",
    "\n",
    "#perfomance\n",
    "lda_result = classification_report(y_test, yhat_lda )\n",
    "print(lda_result)"
   ]
  },
  {
   "cell_type": "markdown",
   "metadata": {},
   "source": [
    "## 6.7 SVM Classifier "
   ]
  },
  {
   "cell_type": "raw",
   "metadata": {
    "ExecuteTime": {
     "end_time": "2021-02-25T23:57:22.317589Z",
     "start_time": "2021-02-25T23:57:22.307458Z"
    },
    "code_folding": []
   },
   "source": [
    "#MODEL\n",
    "svm = svm.SVC().fit(x_train, y_train)\n",
    "\n",
    "#predictions\n",
    "yhat_svm = svm.predict( x_test)\n",
    "\n",
    "#perfomance\n",
    "svm_result = classification_report(y_test, yhat_svm )\n",
    "print(svm_result)"
   ]
  },
  {
   "cell_type": "markdown",
   "metadata": {},
   "source": [
    "##  6.8 XGBClassifier "
   ]
  },
  {
   "cell_type": "raw",
   "metadata": {
    "ExecuteTime": {
     "end_time": "2021-02-25T22:07:54.691491Z",
     "start_time": "2021-02-25T22:07:53.845491Z"
    }
   },
   "source": [
    "#MODEL\n",
    "xgb = xgb.XGBClassifier(objective='binary:logistic').fit(x_train, y_train)\n",
    "\n",
    "#predictions\n",
    "yhat_xgb = xgb.predict( x_test)\n",
    "\n",
    "#perfomance\n",
    "xgb_result = classification_report(y_test, yhat_xgb )\n",
    "print(xgb_result)"
   ]
  },
  {
   "cell_type": "markdown",
   "metadata": {},
   "source": [
    "## 6.9 SGDClassifier "
   ]
  },
  {
   "cell_type": "raw",
   "metadata": {
    "ExecuteTime": {
     "end_time": "2021-02-25T22:07:56.513329Z",
     "start_time": "2021-02-25T22:07:54.692430Z"
    }
   },
   "source": [
    "#MODEL\n",
    "sgd = SGDClassifier(max_iter=1000, tol=1e-3).fit(x_train, y_train)\n",
    "\n",
    "#predictions\n",
    "yhat_sgd = sgd.predict( x_test)\n",
    "\n",
    "#perfomance\n",
    "sgd_result = classification_report(y_test, yhat_sgd )\n",
    "print(sgd_result)"
   ]
  },
  {
   "cell_type": "markdown",
   "metadata": {},
   "source": [
    "## 6.10 LGBMClassifier "
   ]
  },
  {
   "cell_type": "raw",
   "metadata": {
    "ExecuteTime": {
     "end_time": "2021-02-25T22:07:56.863432Z",
     "start_time": "2021-02-25T22:07:56.514486Z"
    }
   },
   "source": [
    "#MODEL\n",
    "lgbm = LGBMClassifier().fit(x_train, y_train)\n",
    "\n",
    "#predictions\n",
    "yhat_lgbm = lgbm.predict( x_test)\n",
    "\n",
    "#perfomance\n",
    "lgbm_result = classification_report(y_test, yhat_lgbm )\n",
    "print(lgbm_result)"
   ]
  },
  {
   "cell_type": "raw",
   "metadata": {
    "ExecuteTime": {
     "end_time": "2021-02-25T23:36:43.390512Z",
     "start_time": "2021-02-25T23:36:41.520385Z"
    }
   },
   "source": [
    "lgbm_clf = LGBMClassifier()\n",
    "cv_scores = cross_val_score( lgbm_clf, x_train_cv, np.ravel( y_train_cv), cv =cv1, scoring ='precision', n_jobs=-1 )\n",
    "print(\"média precisão %0.4f (+/- %0.4f)\" %(cv_scores.mean(), cv_scores.std()*2 ) )\n",
    "\n",
    "cv_scores = cross_val_score( lgbm, x_train_cv,  y_train_cv, cv =cv1, scoring ='recall', n_jobs=-1 )\n",
    "print(\"\\n média recall %0.4f (+/- %0.4f)\" %(cv_scores.mean(), cv_scores.std()*2 ) )\n",
    "\n",
    "cv_scores = cross_val_score( lgbm, x_train_cv, np.ravel( y_train_cv), cv =cv1, scoring ='f1', n_jobs=-1 )\n",
    "print(\"\\n média f1 %0.4f (+/- %0.4f)\" %(cv_scores.mean(), cv_scores.std()*2 )  )\n",
    "      \n",
    "cv_scores = cross_val_score( lgbm, x_train_cv, np.ravel( y_train_cv), cv =cv1, scoring ='roc_auc', n_jobs=-1 )\n",
    "print(\"\\n média roc %0.4f (+/- %0.4f)\" %(cv_scores.mean(), cv_scores.std()*2 ))"
   ]
  },
  {
   "cell_type": "markdown",
   "metadata": {},
   "source": [
    "# 7.0 Cross validation"
   ]
  },
  {
   "cell_type": "code",
   "execution_count": 21,
   "metadata": {
    "ExecuteTime": {
     "end_time": "2021-03-10T14:39:24.955715Z",
     "start_time": "2021-03-10T14:39:24.953190Z"
    }
   },
   "outputs": [],
   "source": [
    "#kfold strategy\n",
    "cv1 = StratifiedKFold( n_splits = 10)"
   ]
  },
  {
   "cell_type": "markdown",
   "metadata": {},
   "source": [
    "## 7.1 Nearest Centroid Classifier - Cross validation"
   ]
  },
  {
   "cell_type": "code",
   "execution_count": 22,
   "metadata": {
    "ExecuteTime": {
     "end_time": "2021-03-10T14:39:27.628411Z",
     "start_time": "2021-03-10T14:39:26.905359Z"
    },
    "hide_input": true
   },
   "outputs": [
    {
     "name": "stdout",
     "output_type": "stream",
     "text": [
      " média precisão 0.5867 (+/- 0.0148)\n",
      "\n",
      " média recall 0.6449 (+/- 0.0262)\n",
      "\n",
      " média f1 0.6144 (+/- 0.0182)\n"
     ]
    }
   ],
   "source": [
    "nc = NearestCentroid()\n",
    "cv_scores = cross_val_score( nc, x_train_cv, np.ravel( y_train_cv), cv =cv1, scoring ='precision', n_jobs=-1 )\n",
    "print(\" média precisão %0.4f (+/- %0.4f)\" %(cv_scores.mean(), cv_scores.std()*2 ) )\n",
    "\n",
    "cv_scores = cross_val_score( nc, x_train_cv,  y_train_cv, cv =cv1, scoring ='recall', n_jobs=-1 )\n",
    "print(\"\\n média recall %0.4f (+/- %0.4f)\" %(cv_scores.mean(), cv_scores.std()*2 ) )\n",
    "\n",
    "cv_scores = cross_val_score( nc, x_train_cv, np.ravel( y_train_cv), cv =cv1, scoring ='f1', n_jobs=-1 )\n",
    "print(\"\\n média f1 %0.4f (+/- %0.4f)\" %(cv_scores.mean(), cv_scores.std()*2 )  )\n",
    "      "
   ]
  },
  {
   "cell_type": "markdown",
   "metadata": {},
   "source": [
    "## 7.2 Decision Tree Classifier - Cross Validation\n",
    "\n",
    "\n"
   ]
  },
  {
   "cell_type": "code",
   "execution_count": 23,
   "metadata": {
    "ExecuteTime": {
     "end_time": "2021-03-10T14:39:33.883795Z",
     "start_time": "2021-03-10T14:39:32.273690Z"
    },
    "hide_input": true
   },
   "outputs": [
    {
     "name": "stdout",
     "output_type": "stream",
     "text": [
      " média precisão 0.6311 (+/- 0.0073)\n",
      "\n",
      " média recall 0.6309 (+/- 0.0199)\n",
      "\n",
      " média f1 0.6302 (+/- 0.0130)\n"
     ]
    }
   ],
   "source": [
    "dtc = tree.DecisionTreeClassifier()\n",
    "cv_scores = cross_val_score( dtc, x_train_cv, np.ravel( y_train_cv), cv =cv1, scoring ='precision', n_jobs=-1 )\n",
    "print(\" média precisão %0.4f (+/- %0.4f)\" %(cv_scores.mean(), cv_scores.std()*2 ) )\n",
    "\n",
    "cv_scores = cross_val_score( dtc, x_train_cv,  y_train_cv, cv =cv1, scoring ='recall', n_jobs=-1 )\n",
    "print(\"\\n média recall %0.4f (+/- %0.4f)\" %(cv_scores.mean(), cv_scores.std()*2 ) )\n",
    "\n",
    "cv_scores = cross_val_score( dtc, x_train_cv, np.ravel( y_train_cv), cv =cv1, scoring ='f1', n_jobs=-1 )\n",
    "print(\"\\n média f1 %0.4f (+/- %0.4f)\" %(cv_scores.mean(), cv_scores.std()*2 )  )\n",
    "      "
   ]
  },
  {
   "cell_type": "markdown",
   "metadata": {},
   "source": [
    "## 7.3 Naive Bayes - Cross Validation\n"
   ]
  },
  {
   "cell_type": "code",
   "execution_count": 24,
   "metadata": {
    "ExecuteTime": {
     "end_time": "2021-03-10T14:39:36.725832Z",
     "start_time": "2021-03-10T14:39:36.434262Z"
    },
    "hide_input": true
   },
   "outputs": [
    {
     "name": "stdout",
     "output_type": "stream",
     "text": [
      " média precisão 0.7276 (+/- 0.0137)\n",
      "\n",
      " média recall 0.4271 (+/- 0.0635)\n",
      "\n",
      " média f1 0.5375 (+/- 0.0523)\n"
     ]
    }
   ],
   "source": [
    "gnb = GaussianNB()\n",
    "cv_scores = cross_val_score( gnb, x_train_cv, np.ravel( y_train_cv), cv =cv1, scoring ='precision', n_jobs=-1 )\n",
    "print(\" média precisão %0.4f (+/- %0.4f)\" %(cv_scores.mean(), cv_scores.std()*2 ) )\n",
    "\n",
    "cv_scores = cross_val_score( gnb, x_train_cv,  y_train_cv, cv =cv1, scoring ='recall', n_jobs=-1 )\n",
    "print(\"\\n média recall %0.4f (+/- %0.4f)\" %(cv_scores.mean(), cv_scores.std()*2 ) )\n",
    "\n",
    "cv_scores = cross_val_score( gnb, x_train_cv, np.ravel( y_train_cv), cv =cv1, scoring ='f1', n_jobs=-1 )\n",
    "print(\"\\n média f1 %0.4f (+/- %0.4f)\" %(cv_scores.mean(), cv_scores.std()*2 )  )\n",
    "      "
   ]
  },
  {
   "cell_type": "markdown",
   "metadata": {},
   "source": [
    "## 7.4 Logistic Regression - Cross Validation"
   ]
  },
  {
   "cell_type": "code",
   "execution_count": 25,
   "metadata": {
    "ExecuteTime": {
     "end_time": "2021-03-10T14:39:44.501436Z",
     "start_time": "2021-03-10T14:39:42.394376Z"
    },
    "hide_input": true
   },
   "outputs": [
    {
     "name": "stdout",
     "output_type": "stream",
     "text": [
      " média precisão 0.7025 (+/- 0.0163)\n",
      "\n",
      " média recall 0.6757 (+/- 0.0634)\n",
      "\n",
      " média f1 0.6884 (+/- 0.0292)\n"
     ]
    }
   ],
   "source": [
    "lr = LogisticRegression()\n",
    "cv_scores = cross_val_score( lr, x_train_cv, np.ravel( y_train_cv), cv =cv1, scoring ='precision', n_jobs=-1 )\n",
    "print(\" média precisão %0.4f (+/- %0.4f)\" %(cv_scores.mean(), cv_scores.std()*2 ) )\n",
    "\n",
    "cv_scores = cross_val_score( lr, x_train_cv,  y_train_cv, cv =cv1, scoring ='recall', n_jobs=-1 )\n",
    "print(\"\\n média recall %0.4f (+/- %0.4f)\" %(cv_scores.mean(), cv_scores.std()*2 ) )\n",
    "\n",
    "cv_scores = cross_val_score( lr, x_train_cv, np.ravel( y_train_cv), cv =cv1, scoring ='f1', n_jobs=-1 )\n",
    "print(\"\\n média f1 %0.4f (+/- %0.4f)\" %(cv_scores.mean(), cv_scores.std()*2 )  )"
   ]
  },
  {
   "cell_type": "markdown",
   "metadata": {},
   "source": [
    "## 7.5 LDA classifier - Cross Validation"
   ]
  },
  {
   "cell_type": "code",
   "execution_count": 26,
   "metadata": {
    "ExecuteTime": {
     "end_time": "2021-03-10T14:39:48.214397Z",
     "start_time": "2021-03-10T14:39:47.594417Z"
    },
    "hide_input": true
   },
   "outputs": [
    {
     "name": "stdout",
     "output_type": "stream",
     "text": [
      " média precisão 0.6874 (+/- 0.0128)\n",
      "\n",
      " média recall 0.7253 (+/- 0.0221)\n",
      "\n",
      " média f1 0.7058 (+/- 0.0131)\n"
     ]
    }
   ],
   "source": [
    "lda = LinearDiscriminantAnalysis()\n",
    "cv_scores = cross_val_score( lda, x_train_cv, np.ravel( y_train_cv), cv =cv1, scoring ='precision', n_jobs=-1 )\n",
    "print(\" média precisão %0.4f (+/- %0.4f)\" %(cv_scores.mean(), cv_scores.std()*2 ) )\n",
    "\n",
    "cv_scores = cross_val_score( lda, x_train_cv,  y_train_cv, cv =cv1, scoring ='recall', n_jobs=-1 )\n",
    "print(\"\\n média recall %0.4f (+/- %0.4f)\" %(cv_scores.mean(), cv_scores.std()*2 ) )\n",
    "\n",
    "cv_scores = cross_val_score( lda, x_train_cv, np.ravel( y_train_cv), cv =cv1, scoring ='f1', n_jobs=-1 )\n",
    "print(\"\\n média f1 %0.4f (+/- %0.4f)\" %(cv_scores.mean(), cv_scores.std()*2 )  )"
   ]
  },
  {
   "cell_type": "markdown",
   "metadata": {},
   "source": [
    "##  7.6 SVM Classifier  - Cross Validation"
   ]
  },
  {
   "cell_type": "code",
   "execution_count": 27,
   "metadata": {
    "ExecuteTime": {
     "end_time": "2021-03-10T14:44:06.210968Z",
     "start_time": "2021-03-10T14:40:13.715220Z"
    }
   },
   "outputs": [
    {
     "name": "stderr",
     "output_type": "stream",
     "text": [
      "/home/pc/anaconda/lib/python3.7/site-packages/joblib/externals/loky/process_executor.py:706: UserWarning: A worker stopped while some jobs were given to the executor. This can be caused by a too short worker timeout or by a memory leak.\n",
      "  \"timeout or by a memory leak.\", UserWarning\n"
     ]
    },
    {
     "ename": "KeyboardInterrupt",
     "evalue": "",
     "output_type": "error",
     "traceback": [
      "\u001b[0;31m---------------------------------------------------------------------------\u001b[0m",
      "\u001b[0;31mKeyboardInterrupt\u001b[0m                         Traceback (most recent call last)",
      "\u001b[0;32m<ipython-input-27-87b34ec49fe1>\u001b[0m in \u001b[0;36m<module>\u001b[0;34m\u001b[0m\n\u001b[1;32m      1\u001b[0m \u001b[0msvm\u001b[0m \u001b[0;34m=\u001b[0m \u001b[0msvm\u001b[0m\u001b[0;34m.\u001b[0m\u001b[0mSVC\u001b[0m\u001b[0;34m(\u001b[0m\u001b[0;34m)\u001b[0m\u001b[0;34m\u001b[0m\u001b[0;34m\u001b[0m\u001b[0m\n\u001b[0;32m----> 2\u001b[0;31m \u001b[0mcv_scores\u001b[0m \u001b[0;34m=\u001b[0m \u001b[0mcross_val_score\u001b[0m\u001b[0;34m(\u001b[0m \u001b[0msvm\u001b[0m\u001b[0;34m,\u001b[0m \u001b[0mx_train_cv\u001b[0m\u001b[0;34m,\u001b[0m \u001b[0mnp\u001b[0m\u001b[0;34m.\u001b[0m\u001b[0mravel\u001b[0m\u001b[0;34m(\u001b[0m \u001b[0my_train_cv\u001b[0m\u001b[0;34m)\u001b[0m\u001b[0;34m,\u001b[0m \u001b[0mcv\u001b[0m \u001b[0;34m=\u001b[0m\u001b[0mcv1\u001b[0m\u001b[0;34m,\u001b[0m \u001b[0mscoring\u001b[0m \u001b[0;34m=\u001b[0m\u001b[0;34m'precision'\u001b[0m\u001b[0;34m,\u001b[0m \u001b[0mn_jobs\u001b[0m\u001b[0;34m=\u001b[0m\u001b[0;34m-\u001b[0m\u001b[0;36m1\u001b[0m \u001b[0;34m)\u001b[0m\u001b[0;34m\u001b[0m\u001b[0;34m\u001b[0m\u001b[0m\n\u001b[0m\u001b[1;32m      3\u001b[0m \u001b[0mprint\u001b[0m\u001b[0;34m(\u001b[0m\u001b[0;34m\" média precisão %0.4f (+/- %0.4f)\"\u001b[0m \u001b[0;34m%\u001b[0m\u001b[0;34m(\u001b[0m\u001b[0mcv_scores\u001b[0m\u001b[0;34m.\u001b[0m\u001b[0mmean\u001b[0m\u001b[0;34m(\u001b[0m\u001b[0;34m)\u001b[0m\u001b[0;34m,\u001b[0m \u001b[0mcv_scores\u001b[0m\u001b[0;34m.\u001b[0m\u001b[0mstd\u001b[0m\u001b[0;34m(\u001b[0m\u001b[0;34m)\u001b[0m\u001b[0;34m*\u001b[0m\u001b[0;36m2\u001b[0m \u001b[0;34m)\u001b[0m \u001b[0;34m)\u001b[0m\u001b[0;34m\u001b[0m\u001b[0;34m\u001b[0m\u001b[0m\n\u001b[1;32m      4\u001b[0m \u001b[0;34m\u001b[0m\u001b[0m\n\u001b[1;32m      5\u001b[0m \u001b[0mcv_scores\u001b[0m \u001b[0;34m=\u001b[0m \u001b[0mcross_val_score\u001b[0m\u001b[0;34m(\u001b[0m \u001b[0msvm\u001b[0m\u001b[0;34m,\u001b[0m \u001b[0mx_train_cv\u001b[0m\u001b[0;34m,\u001b[0m  \u001b[0my_train_cv\u001b[0m\u001b[0;34m,\u001b[0m \u001b[0mcv\u001b[0m \u001b[0;34m=\u001b[0m\u001b[0mcv1\u001b[0m\u001b[0;34m,\u001b[0m \u001b[0mscoring\u001b[0m \u001b[0;34m=\u001b[0m\u001b[0;34m'recall'\u001b[0m\u001b[0;34m,\u001b[0m \u001b[0mn_jobs\u001b[0m\u001b[0;34m=\u001b[0m\u001b[0;34m-\u001b[0m\u001b[0;36m1\u001b[0m \u001b[0;34m)\u001b[0m\u001b[0;34m\u001b[0m\u001b[0;34m\u001b[0m\u001b[0m\n",
      "\u001b[0;32m~/anaconda/lib/python3.7/site-packages/sklearn/model_selection/_validation.py\u001b[0m in \u001b[0;36mcross_val_score\u001b[0;34m(estimator, X, y, groups, scoring, cv, n_jobs, verbose, fit_params, pre_dispatch, error_score)\u001b[0m\n\u001b[1;32m    388\u001b[0m                                 \u001b[0mfit_params\u001b[0m\u001b[0;34m=\u001b[0m\u001b[0mfit_params\u001b[0m\u001b[0;34m,\u001b[0m\u001b[0;34m\u001b[0m\u001b[0;34m\u001b[0m\u001b[0m\n\u001b[1;32m    389\u001b[0m                                 \u001b[0mpre_dispatch\u001b[0m\u001b[0;34m=\u001b[0m\u001b[0mpre_dispatch\u001b[0m\u001b[0;34m,\u001b[0m\u001b[0;34m\u001b[0m\u001b[0;34m\u001b[0m\u001b[0m\n\u001b[0;32m--> 390\u001b[0;31m                                 error_score=error_score)\n\u001b[0m\u001b[1;32m    391\u001b[0m     \u001b[0;32mreturn\u001b[0m \u001b[0mcv_results\u001b[0m\u001b[0;34m[\u001b[0m\u001b[0;34m'test_score'\u001b[0m\u001b[0;34m]\u001b[0m\u001b[0;34m\u001b[0m\u001b[0;34m\u001b[0m\u001b[0m\n\u001b[1;32m    392\u001b[0m \u001b[0;34m\u001b[0m\u001b[0m\n",
      "\u001b[0;32m~/anaconda/lib/python3.7/site-packages/sklearn/model_selection/_validation.py\u001b[0m in \u001b[0;36mcross_validate\u001b[0;34m(estimator, X, y, groups, scoring, cv, n_jobs, verbose, fit_params, pre_dispatch, return_train_score, return_estimator, error_score)\u001b[0m\n\u001b[1;32m    234\u001b[0m             \u001b[0mreturn_times\u001b[0m\u001b[0;34m=\u001b[0m\u001b[0;32mTrue\u001b[0m\u001b[0;34m,\u001b[0m \u001b[0mreturn_estimator\u001b[0m\u001b[0;34m=\u001b[0m\u001b[0mreturn_estimator\u001b[0m\u001b[0;34m,\u001b[0m\u001b[0;34m\u001b[0m\u001b[0;34m\u001b[0m\u001b[0m\n\u001b[1;32m    235\u001b[0m             error_score=error_score)\n\u001b[0;32m--> 236\u001b[0;31m         for train, test in cv.split(X, y, groups))\n\u001b[0m\u001b[1;32m    237\u001b[0m \u001b[0;34m\u001b[0m\u001b[0m\n\u001b[1;32m    238\u001b[0m     \u001b[0mzipped_scores\u001b[0m \u001b[0;34m=\u001b[0m \u001b[0mlist\u001b[0m\u001b[0;34m(\u001b[0m\u001b[0mzip\u001b[0m\u001b[0;34m(\u001b[0m\u001b[0;34m*\u001b[0m\u001b[0mscores\u001b[0m\u001b[0;34m)\u001b[0m\u001b[0;34m)\u001b[0m\u001b[0;34m\u001b[0m\u001b[0;34m\u001b[0m\u001b[0m\n",
      "\u001b[0;32m~/anaconda/lib/python3.7/site-packages/joblib/parallel.py\u001b[0m in \u001b[0;36m__call__\u001b[0;34m(self, iterable)\u001b[0m\n\u001b[1;32m   1015\u001b[0m \u001b[0;34m\u001b[0m\u001b[0m\n\u001b[1;32m   1016\u001b[0m             \u001b[0;32mwith\u001b[0m \u001b[0mself\u001b[0m\u001b[0;34m.\u001b[0m\u001b[0m_backend\u001b[0m\u001b[0;34m.\u001b[0m\u001b[0mretrieval_context\u001b[0m\u001b[0;34m(\u001b[0m\u001b[0;34m)\u001b[0m\u001b[0;34m:\u001b[0m\u001b[0;34m\u001b[0m\u001b[0;34m\u001b[0m\u001b[0m\n\u001b[0;32m-> 1017\u001b[0;31m                 \u001b[0mself\u001b[0m\u001b[0;34m.\u001b[0m\u001b[0mretrieve\u001b[0m\u001b[0;34m(\u001b[0m\u001b[0;34m)\u001b[0m\u001b[0;34m\u001b[0m\u001b[0;34m\u001b[0m\u001b[0m\n\u001b[0m\u001b[1;32m   1018\u001b[0m             \u001b[0;31m# Make sure that we get a last message telling us we are done\u001b[0m\u001b[0;34m\u001b[0m\u001b[0;34m\u001b[0m\u001b[0;34m\u001b[0m\u001b[0m\n\u001b[1;32m   1019\u001b[0m             \u001b[0melapsed_time\u001b[0m \u001b[0;34m=\u001b[0m \u001b[0mtime\u001b[0m\u001b[0;34m.\u001b[0m\u001b[0mtime\u001b[0m\u001b[0;34m(\u001b[0m\u001b[0;34m)\u001b[0m \u001b[0;34m-\u001b[0m \u001b[0mself\u001b[0m\u001b[0;34m.\u001b[0m\u001b[0m_start_time\u001b[0m\u001b[0;34m\u001b[0m\u001b[0;34m\u001b[0m\u001b[0m\n",
      "\u001b[0;32m~/anaconda/lib/python3.7/site-packages/joblib/parallel.py\u001b[0m in \u001b[0;36mretrieve\u001b[0;34m(self)\u001b[0m\n\u001b[1;32m    907\u001b[0m             \u001b[0;32mtry\u001b[0m\u001b[0;34m:\u001b[0m\u001b[0;34m\u001b[0m\u001b[0;34m\u001b[0m\u001b[0m\n\u001b[1;32m    908\u001b[0m                 \u001b[0;32mif\u001b[0m \u001b[0mgetattr\u001b[0m\u001b[0;34m(\u001b[0m\u001b[0mself\u001b[0m\u001b[0;34m.\u001b[0m\u001b[0m_backend\u001b[0m\u001b[0;34m,\u001b[0m \u001b[0;34m'supports_timeout'\u001b[0m\u001b[0;34m,\u001b[0m \u001b[0;32mFalse\u001b[0m\u001b[0;34m)\u001b[0m\u001b[0;34m:\u001b[0m\u001b[0;34m\u001b[0m\u001b[0;34m\u001b[0m\u001b[0m\n\u001b[0;32m--> 909\u001b[0;31m                     \u001b[0mself\u001b[0m\u001b[0;34m.\u001b[0m\u001b[0m_output\u001b[0m\u001b[0;34m.\u001b[0m\u001b[0mextend\u001b[0m\u001b[0;34m(\u001b[0m\u001b[0mjob\u001b[0m\u001b[0;34m.\u001b[0m\u001b[0mget\u001b[0m\u001b[0;34m(\u001b[0m\u001b[0mtimeout\u001b[0m\u001b[0;34m=\u001b[0m\u001b[0mself\u001b[0m\u001b[0;34m.\u001b[0m\u001b[0mtimeout\u001b[0m\u001b[0;34m)\u001b[0m\u001b[0;34m)\u001b[0m\u001b[0;34m\u001b[0m\u001b[0;34m\u001b[0m\u001b[0m\n\u001b[0m\u001b[1;32m    910\u001b[0m                 \u001b[0;32melse\u001b[0m\u001b[0;34m:\u001b[0m\u001b[0;34m\u001b[0m\u001b[0;34m\u001b[0m\u001b[0m\n\u001b[1;32m    911\u001b[0m                     \u001b[0mself\u001b[0m\u001b[0;34m.\u001b[0m\u001b[0m_output\u001b[0m\u001b[0;34m.\u001b[0m\u001b[0mextend\u001b[0m\u001b[0;34m(\u001b[0m\u001b[0mjob\u001b[0m\u001b[0;34m.\u001b[0m\u001b[0mget\u001b[0m\u001b[0;34m(\u001b[0m\u001b[0;34m)\u001b[0m\u001b[0;34m)\u001b[0m\u001b[0;34m\u001b[0m\u001b[0;34m\u001b[0m\u001b[0m\n",
      "\u001b[0;32m~/anaconda/lib/python3.7/site-packages/joblib/_parallel_backends.py\u001b[0m in \u001b[0;36mwrap_future_result\u001b[0;34m(future, timeout)\u001b[0m\n\u001b[1;32m    560\u001b[0m         AsyncResults.get from multiprocessing.\"\"\"\n\u001b[1;32m    561\u001b[0m         \u001b[0;32mtry\u001b[0m\u001b[0;34m:\u001b[0m\u001b[0;34m\u001b[0m\u001b[0;34m\u001b[0m\u001b[0m\n\u001b[0;32m--> 562\u001b[0;31m             \u001b[0;32mreturn\u001b[0m \u001b[0mfuture\u001b[0m\u001b[0;34m.\u001b[0m\u001b[0mresult\u001b[0m\u001b[0;34m(\u001b[0m\u001b[0mtimeout\u001b[0m\u001b[0;34m=\u001b[0m\u001b[0mtimeout\u001b[0m\u001b[0;34m)\u001b[0m\u001b[0;34m\u001b[0m\u001b[0;34m\u001b[0m\u001b[0m\n\u001b[0m\u001b[1;32m    563\u001b[0m         \u001b[0;32mexcept\u001b[0m \u001b[0mLokyTimeoutError\u001b[0m\u001b[0;34m:\u001b[0m\u001b[0;34m\u001b[0m\u001b[0;34m\u001b[0m\u001b[0m\n\u001b[1;32m    564\u001b[0m             \u001b[0;32mraise\u001b[0m \u001b[0mTimeoutError\u001b[0m\u001b[0;34m(\u001b[0m\u001b[0;34m)\u001b[0m\u001b[0;34m\u001b[0m\u001b[0;34m\u001b[0m\u001b[0m\n",
      "\u001b[0;32m~/anaconda/lib/python3.7/concurrent/futures/_base.py\u001b[0m in \u001b[0;36mresult\u001b[0;34m(self, timeout)\u001b[0m\n\u001b[1;32m    428\u001b[0m                 \u001b[0;32mreturn\u001b[0m \u001b[0mself\u001b[0m\u001b[0;34m.\u001b[0m\u001b[0m__get_result\u001b[0m\u001b[0;34m(\u001b[0m\u001b[0;34m)\u001b[0m\u001b[0;34m\u001b[0m\u001b[0;34m\u001b[0m\u001b[0m\n\u001b[1;32m    429\u001b[0m \u001b[0;34m\u001b[0m\u001b[0m\n\u001b[0;32m--> 430\u001b[0;31m             \u001b[0mself\u001b[0m\u001b[0;34m.\u001b[0m\u001b[0m_condition\u001b[0m\u001b[0;34m.\u001b[0m\u001b[0mwait\u001b[0m\u001b[0;34m(\u001b[0m\u001b[0mtimeout\u001b[0m\u001b[0;34m)\u001b[0m\u001b[0;34m\u001b[0m\u001b[0;34m\u001b[0m\u001b[0m\n\u001b[0m\u001b[1;32m    431\u001b[0m \u001b[0;34m\u001b[0m\u001b[0m\n\u001b[1;32m    432\u001b[0m             \u001b[0;32mif\u001b[0m \u001b[0mself\u001b[0m\u001b[0;34m.\u001b[0m\u001b[0m_state\u001b[0m \u001b[0;32min\u001b[0m \u001b[0;34m[\u001b[0m\u001b[0mCANCELLED\u001b[0m\u001b[0;34m,\u001b[0m \u001b[0mCANCELLED_AND_NOTIFIED\u001b[0m\u001b[0;34m]\u001b[0m\u001b[0;34m:\u001b[0m\u001b[0;34m\u001b[0m\u001b[0;34m\u001b[0m\u001b[0m\n",
      "\u001b[0;32m~/anaconda/lib/python3.7/threading.py\u001b[0m in \u001b[0;36mwait\u001b[0;34m(self, timeout)\u001b[0m\n\u001b[1;32m    294\u001b[0m         \u001b[0;32mtry\u001b[0m\u001b[0;34m:\u001b[0m    \u001b[0;31m# restore state no matter what (e.g., KeyboardInterrupt)\u001b[0m\u001b[0;34m\u001b[0m\u001b[0;34m\u001b[0m\u001b[0m\n\u001b[1;32m    295\u001b[0m             \u001b[0;32mif\u001b[0m \u001b[0mtimeout\u001b[0m \u001b[0;32mis\u001b[0m \u001b[0;32mNone\u001b[0m\u001b[0;34m:\u001b[0m\u001b[0;34m\u001b[0m\u001b[0;34m\u001b[0m\u001b[0m\n\u001b[0;32m--> 296\u001b[0;31m                 \u001b[0mwaiter\u001b[0m\u001b[0;34m.\u001b[0m\u001b[0macquire\u001b[0m\u001b[0;34m(\u001b[0m\u001b[0;34m)\u001b[0m\u001b[0;34m\u001b[0m\u001b[0;34m\u001b[0m\u001b[0m\n\u001b[0m\u001b[1;32m    297\u001b[0m                 \u001b[0mgotit\u001b[0m \u001b[0;34m=\u001b[0m \u001b[0;32mTrue\u001b[0m\u001b[0;34m\u001b[0m\u001b[0;34m\u001b[0m\u001b[0m\n\u001b[1;32m    298\u001b[0m             \u001b[0;32melse\u001b[0m\u001b[0;34m:\u001b[0m\u001b[0;34m\u001b[0m\u001b[0;34m\u001b[0m\u001b[0m\n",
      "\u001b[0;31mKeyboardInterrupt\u001b[0m: "
     ]
    }
   ],
   "source": [
    "svm = svm.SVC()\n",
    "cv_scores = cross_val_score( svm, x_train_cv, np.ravel( y_train_cv), cv =cv1, scoring ='precision', n_jobs=-1 )\n",
    "print(\" média precisão %0.4f (+/- %0.4f)\" %(cv_scores.mean(), cv_scores.std()*2 ) )\n",
    "\n",
    "cv_scores = cross_val_score( svm, x_train_cv,  y_train_cv, cv =cv1, scoring ='recall', n_jobs=-1 )\n",
    "print(\"\\n média recall %0.4f (+/- %0.4f)\" %(cv_scores.mean(), cv_scores.std()*2 ) )\n",
    "\n",
    "cv_scores = cross_val_score( svm, x_train_cv, np.ravel( y_train_cv), cv =cv1, scoring ='f1', n_jobs=-1 )\n",
    "print(\"\\n média f1 %0.4f (+/- %0.4f)\" %(cv_scores.mean(), cv_scores.std()*2 )  )"
   ]
  },
  {
   "cell_type": "markdown",
   "metadata": {},
   "source": [
    "##  7.7 XGBClassifier - Cross Validation\n"
   ]
  },
  {
   "cell_type": "code",
   "execution_count": 28,
   "metadata": {
    "ExecuteTime": {
     "end_time": "2021-03-10T14:44:42.801341Z",
     "start_time": "2021-03-10T14:44:08.480801Z"
    },
    "hide_input": true
   },
   "outputs": [
    {
     "name": "stdout",
     "output_type": "stream",
     "text": [
      " média precisão 0.7522 (+/- 0.0094)\n",
      "\n",
      " média recall 0.6908 (+/- 0.0173)\n",
      "\n",
      " média f1 0.7202 (+/- 0.0109)\n"
     ]
    }
   ],
   "source": [
    "xgb = xgb.XGBClassifier(objective='binary:logistic')\n",
    "cv_scores = cross_val_score( xgb, x_train_cv, np.ravel( y_train_cv), cv =cv1, scoring ='precision', n_jobs=-1 )\n",
    "print(\" média precisão %0.4f (+/- %0.4f)\" %(cv_scores.mean(), cv_scores.std()*2 ) )\n",
    "\n",
    "cv_scores = cross_val_score( xgb, x_train_cv,  y_train_cv, cv =cv1, scoring ='recall', n_jobs=-1 )\n",
    "print(\"\\n média recall %0.4f (+/- %0.4f)\" %(cv_scores.mean(), cv_scores.std()*2 ) )\n",
    "\n",
    "cv_scores = cross_val_score( xgb, x_train_cv, np.ravel( y_train_cv), cv =cv1, scoring ='f1', n_jobs=-1 )\n",
    "print(\"\\n média f1 %0.4f (+/- %0.4f)\" %(cv_scores.mean(), cv_scores.std()*2 )  )"
   ]
  },
  {
   "cell_type": "markdown",
   "metadata": {},
   "source": [
    "## 7.8 SGDClassifier - Cross Validation\n"
   ]
  },
  {
   "cell_type": "code",
   "execution_count": 29,
   "metadata": {
    "ExecuteTime": {
     "end_time": "2021-03-10T14:46:13.732863Z",
     "start_time": "2021-03-10T14:45:55.674886Z"
    },
    "hide_input": false
   },
   "outputs": [
    {
     "name": "stdout",
     "output_type": "stream",
     "text": [
      " média precisão 0.6905 (+/- 0.2635)\n",
      "\n",
      " média recall 0.7176 (+/- 0.7902)\n",
      "\n",
      " média f1 0.3086 (+/- 0.5335)\n"
     ]
    }
   ],
   "source": [
    "sgd = SGDClassifier(max_iter=1000, tol=1e-3)\n",
    "cv_scores = cross_val_score( sgd, x_train_cv, np.ravel( y_train_cv), cv =cv1, scoring ='precision', n_jobs=-1 )\n",
    "print(\" média precisão %0.4f (+/- %0.4f)\" %(cv_scores.mean(), cv_scores.std()*2 ) )\n",
    "\n",
    "cv_scores = cross_val_score( sgd, x_train_cv,  y_train_cv, cv =cv1, scoring ='recall', n_jobs=-1 )\n",
    "print(\"\\n média recall %0.4f (+/- %0.4f)\" %(cv_scores.mean(), cv_scores.std()*2 ) )\n",
    "\n",
    "cv_scores = cross_val_score( sgd, x_train_cv, np.ravel( y_train_cv), cv =cv1, scoring ='f1', n_jobs=-1 )\n",
    "print(\"\\n média f1 %0.4f (+/- %0.4f)\" %(cv_scores.mean(), cv_scores.std()*2 )  )"
   ]
  },
  {
   "cell_type": "markdown",
   "metadata": {
    "hide_input": false
   },
   "source": [
    "## 7.9 LGBMClassifier - Cross Validation"
   ]
  },
  {
   "cell_type": "code",
   "execution_count": 31,
   "metadata": {
    "ExecuteTime": {
     "end_time": "2021-03-10T14:47:28.453110Z",
     "start_time": "2021-03-10T14:47:03.140386Z"
    },
    "hide_input": false
   },
   "outputs": [
    {
     "name": "stdout",
     "output_type": "stream",
     "text": [
      "média precisão 0.7562 (+/- 0.0147)\n",
      "\n",
      " média recall 0.6934 (+/- 0.0167)\n",
      "\n",
      " média f1 0.7234 (+/- 0.0114)\n",
      "\n",
      " média roc 0.8021 (+/- 0.0121)\n"
     ]
    }
   ],
   "source": [
    "lgbm_clf = LGBMClassifier()\n",
    "cv_scores = cross_val_score( lgbm_clf, x_train_cv, np.ravel( y_train_cv), cv =cv1, scoring ='precision', n_jobs=-1 )\n",
    "print(\"média precisão %0.4f (+/- %0.4f)\" %(cv_scores.mean(), cv_scores.std()*2 ) )\n",
    "\n",
    "cv_scores = cross_val_score( lgbm_clf, x_train_cv,  y_train_cv, cv =cv1, scoring ='recall', n_jobs=-1 )\n",
    "print(\"\\n média recall %0.4f (+/- %0.4f)\" %(cv_scores.mean(), cv_scores.std()*2 ) )\n",
    "\n",
    "cv_scores = cross_val_score( lgbm_clf, x_train_cv, np.ravel( y_train_cv), cv =cv1, scoring ='f1', n_jobs=-1 )\n",
    "print(\"\\n média f1 %0.4f (+/- %0.4f)\" %(cv_scores.mean(), cv_scores.std()*2 )  )\n",
    "      \n",
    "cv_scores = cross_val_score( lgbm_clf, x_train_cv, np.ravel( y_train_cv), cv =cv1, scoring ='roc_auc', n_jobs=-1 )\n",
    "print(\"\\n média roc %0.4f (+/- %0.4f)\" %(cv_scores.mean(), cv_scores.std()*2 ))"
   ]
  },
  {
   "cell_type": "markdown",
   "metadata": {},
   "source": [
    "# 8.0 Hyperparemeter fine tuning"
   ]
  },
  {
   "cell_type": "markdown",
   "metadata": {},
   "source": [
    "## 8.1 Random search\n"
   ]
  },
  {
   "cell_type": "code",
   "execution_count": 164,
   "metadata": {
    "ExecuteTime": {
     "end_time": "2021-03-10T20:44:50.635257Z",
     "start_time": "2021-03-10T20:44:50.628120Z"
    }
   },
   "outputs": [],
   "source": [
    "# instantiate the classifier\n",
    "\n",
    "lgbm_clf = LGBMClassifier(random_state=33, n_jobs=-1)"
   ]
  },
  {
   "cell_type": "code",
   "execution_count": 165,
   "metadata": {
    "ExecuteTime": {
     "end_time": "2021-03-10T20:44:55.775592Z",
     "start_time": "2021-03-10T20:44:55.770838Z"
    }
   },
   "outputs": [],
   "source": [
    " # set up space dictionary with specified hyperparameters\n",
    "param = {'max_depth': np.arange(2, 12, 2), \n",
    "         'num_leaves': 2 ** np.arange(2, 10, 2),\n",
    "         'min_data_in_leaf': np.arange(100, 1050, 50), \n",
    "         'learning_rate': np.linspace(0.001, 0.6, 15),\n",
    "         'colsample_bytree': np.linspace(0.1, 1, 5),\n",
    "         'subsample': np.linspace(0.25, 1, 15),\n",
    "         'n_estimators': np.arange(10, 105, 15)}"
   ]
  },
  {
   "cell_type": "code",
   "execution_count": 173,
   "metadata": {
    "ExecuteTime": {
     "end_time": "2021-03-10T20:50:50.039923Z",
     "start_time": "2021-03-10T20:50:50.036540Z"
    }
   },
   "outputs": [],
   "source": [
    "# prepare RandomizedSearchCV \n",
    "lgbm_clf_cv = RandomizedSearchCV(estimator=lgbm_clf, param_distributions=param,\n",
    "                                scoring='recall', n_iter=100, cv=5, verbose=2,\n",
    "                                random_state=33, n_jobs=-1)"
   ]
  },
  {
   "cell_type": "code",
   "execution_count": 174,
   "metadata": {
    "ExecuteTime": {
     "end_time": "2021-03-10T20:51:13.117406Z",
     "start_time": "2021-03-10T20:50:51.652583Z"
    }
   },
   "outputs": [
    {
     "name": "stdout",
     "output_type": "stream",
     "text": [
      "Fitting 5 folds for each of 100 candidates, totalling 500 fits\n"
     ]
    },
    {
     "name": "stderr",
     "output_type": "stream",
     "text": [
      "[Parallel(n_jobs=-1)]: Using backend LokyBackend with 6 concurrent workers.\n",
      "[Parallel(n_jobs=-1)]: Done  29 tasks      | elapsed:    1.4s\n",
      "[Parallel(n_jobs=-1)]: Done 150 tasks      | elapsed:    5.9s\n",
      "[Parallel(n_jobs=-1)]: Done 353 tasks      | elapsed:   14.8s\n"
     ]
    },
    {
     "name": "stdout",
     "output_type": "stream",
     "text": [
      "[LightGBM] [Warning] min_data_in_leaf is set=900, min_child_samples=20 will be ignored. Current value: min_data_in_leaf=900\n"
     ]
    },
    {
     "name": "stderr",
     "output_type": "stream",
     "text": [
      "[Parallel(n_jobs=-1)]: Done 500 out of 500 | elapsed:   21.3s finished\n"
     ]
    },
    {
     "data": {
      "text/plain": [
       "RandomizedSearchCV(cv=5, error_score=nan,\n",
       "                   estimator=LGBMClassifier(boosting_type='gbdt',\n",
       "                                            class_weight=None,\n",
       "                                            colsample_bytree=0.526,\n",
       "                                            importance_type='split',\n",
       "                                            learning_rate=0.2465, max_depth=-1,\n",
       "                                            min_child_samples=20,\n",
       "                                            min_child_weight=0.001,\n",
       "                                            min_split_gain=0.0,\n",
       "                                            n_estimators=5000, n_jobs=-1,\n",
       "                                            num_leaves=31, objective=None,\n",
       "                                            random_state=33, reg_alpha=0.0,\n",
       "                                            reg_lambda=0.0,...\n",
       "                                        'n_estimators': array([ 10,  25,  40,  55,  70,  85, 100]),\n",
       "                                        'num_leaves': array([  4,  16,  64, 256]),\n",
       "                                        'subsample': array([0.25      , 0.30357143, 0.35714286, 0.41071429, 0.46428571,\n",
       "       0.51785714, 0.57142857, 0.625     , 0.67857143, 0.73214286,\n",
       "       0.78571429, 0.83928571, 0.89285714, 0.94642857, 1.        ])},\n",
       "                   pre_dispatch='2*n_jobs', random_state=33, refit=True,\n",
       "                   return_train_score=False, scoring='recall', verbose=2)"
      ]
     },
     "execution_count": 174,
     "metadata": {},
     "output_type": "execute_result"
    }
   ],
   "source": [
    "# fits \n",
    "lgbm_clf_cv.fit(x_train, y_train)"
   ]
  },
  {
   "cell_type": "code",
   "execution_count": 178,
   "metadata": {
    "ExecuteTime": {
     "end_time": "2021-03-10T22:28:35.464783Z",
     "start_time": "2021-03-10T22:28:35.461250Z"
    }
   },
   "outputs": [
    {
     "data": {
      "text/plain": [
       "LGBMClassifier(boosting_type='gbdt', class_weight=None, colsample_bytree=0.775,\n",
       "               importance_type='split', learning_rate=0.5144285714285713,\n",
       "               max_depth=4, min_child_samples=20, min_child_weight=0.001,\n",
       "               min_data_in_leaf=900, min_split_gain=0.0, n_estimators=40,\n",
       "               n_jobs=-1, num_leaves=4, objective=None, random_state=33,\n",
       "               reg_alpha=0.0, reg_lambda=0.0, silent=True, subsample=0.625,\n",
       "               subsample_for_bin=200000, subsample_freq=0)"
      ]
     },
     "execution_count": 178,
     "metadata": {},
     "output_type": "execute_result"
    }
   ],
   "source": [
    "#best parameters\n",
    "lgbm_clf_cv.best_estimator_\n"
   ]
  },
  {
   "cell_type": "markdown",
   "metadata": {},
   "source": [
    "## 8.2 Final Model\n"
   ]
  },
  {
   "cell_type": "code",
   "execution_count": 181,
   "metadata": {
    "ExecuteTime": {
     "end_time": "2021-03-10T22:36:57.017109Z",
     "start_time": "2021-03-10T22:36:57.014779Z"
    },
    "code_folding": []
   },
   "outputs": [],
   "source": [
    "#MODEL\n",
    "lgbm = lgbm_clf_cv.best_estimator_\n",
    "\n"
   ]
  },
  {
   "cell_type": "markdown",
   "metadata": {
    "ExecuteTime": {
     "end_time": "2021-03-10T18:04:21.288274Z",
     "start_time": "2021-03-10T18:04:21.283823Z"
    }
   },
   "source": [
    "## 8.3 Metrics Final Model"
   ]
  },
  {
   "cell_type": "code",
   "execution_count": 186,
   "metadata": {
    "ExecuteTime": {
     "end_time": "2021-03-10T22:54:18.046331Z",
     "start_time": "2021-03-10T22:54:16.356414Z"
    }
   },
   "outputs": [
    {
     "name": "stdout",
     "output_type": "stream",
     "text": [
      "Average Precision 0.7505 (+/- 0.0148)\n",
      "\n",
      " Average Recall 0.6986 (+/- 0.0183)\n",
      "\n",
      " Average f1-score 0.7236 (+/- 0.0126)\n"
     ]
    }
   ],
   "source": [
    "#Perfomance cross validation\n",
    "\n",
    "cv_scores = cross_val_score( lgbm, x_train_cv, np.ravel( y_train_cv), cv =cv1, scoring ='precision', n_jobs=-1 )\n",
    "print(\"Average Precision %0.4f (+/- %0.4f)\" %(cv_scores.mean(), cv_scores.std()*2 ) )\n",
    "\n",
    "cv_scores = cross_val_score( lgbm, x_train_cv,  y_train_cv, cv =cv1, scoring ='recall', n_jobs=-1 )\n",
    "print(\"\\n Average Recall %0.4f (+/- %0.4f)\" %(cv_scores.mean(), cv_scores.std()*2 ) )\n",
    "\n",
    "cv_scores = cross_val_score( lgbm, x_train_cv, np.ravel( y_train_cv), cv =cv1, scoring ='f1', n_jobs=-1 )\n",
    "print(\"\\n Average f1-score %0.4f (+/- %0.4f)\" %(cv_scores.mean(), cv_scores.std()*2 )  )"
   ]
  },
  {
   "cell_type": "markdown",
   "metadata": {},
   "source": [
    "## 8.4 Cross validation summary"
   ]
  },
  {
   "cell_type": "markdown",
   "metadata": {},
   "source": [
    "|     Model                                  | Avg Precision             | Avg Recall                | Avg f1\\-score             \n",
    "|--------------------------------------------|---------------------------|---------------------------|---------------------------\n",
    "| LGBM Classifier                            | 0\\.7562 \\(\\+/\\- 0\\.0147\\) | 0\\.0934 \\(\\+/\\- 0\\.0167\\) | 0\\.7234 \\(\\+/\\- 0\\.0114\\) \n",
    "| LGBM Classifier \\(Tuned HP\\)               | 0.7505 (+/- 0\\.0148\\)     | 0\\.6989 \\(\\+/\\- 0\\.0183\\) | 0\\.7236 \\(\\+/\\- 0\\.0126\\) \n"
   ]
  },
  {
   "cell_type": "markdown",
   "metadata": {
    "heading_collapsed": true
   },
   "source": [
    "## 8.5 Calculate Business perfomance"
   ]
  },
  {
   "cell_type": "code",
   "execution_count": 189,
   "metadata": {
    "ExecuteTime": {
     "end_time": "2021-03-10T23:01:43.758113Z",
     "start_time": "2021-03-10T23:01:43.751573Z"
    },
    "hidden": true
   },
   "outputs": [
    {
     "name": "stdout",
     "output_type": "stream",
     "text": [
      "Best:  $165,305,455.95\n",
      "Worst: $147,682,954.67\n"
     ]
    }
   ],
   "source": [
    "#model performance business\n",
    "price_per_percent = 500/5\n",
    "\n",
    "baseline = 50\n",
    "num_pacients = 70000\n",
    "\n",
    "model_accuracy = cv_scores.mean()\n",
    "deviation = cv_scores.std() * 2\n",
    "\n",
    "\n",
    "accuracy_lower = (model_accuracy - deviation) * 100\n",
    "accuracy_upper = (model_accuracy + deviation) * 100\n",
    "\n",
    "percent_difference_lower = accuracy_lower - baseline\n",
    "percent_difference_upper = accuracy_upper - baseline\n",
    "\n",
    "amount_best = percent_difference_upper * price_per_percent * num_pacients\n",
    "amount_worst = percent_difference_lower * price_per_percent * num_pacients\n",
    "\n",
    "print(f'Best:  ${round(amount_best, 2):,.2f}')\n",
    "print(f'Worst: ${round(amount_worst, 2):,.2f}')"
   ]
  },
  {
   "cell_type": "code",
   "execution_count": 192,
   "metadata": {
    "ExecuteTime": {
     "end_time": "2021-03-10T23:03:48.218172Z",
     "start_time": "2021-03-10T23:03:48.213276Z"
    },
    "code_folding": [],
    "hidden": true
   },
   "outputs": [
    {
     "name": "stdout",
     "output_type": "stream",
     "text": [
      "Best:  $105,000,000.00\n",
      "Worst: $35,000,000.00\n"
     ]
    }
   ],
   "source": [
    "#today's performance\n",
    "\n",
    "price_per_percent = 500/5\n",
    "\n",
    "baseline = 50\n",
    "num_pacients = 70000\n",
    "\n",
    "\n",
    "\n",
    "accuracy_lower = 55.0\n",
    "accuracy_upper = 65.0\n",
    "\n",
    "percent_difference_lower = accuracy_lower - baseline\n",
    "percent_difference_upper = accuracy_upper - baseline\n",
    "\n",
    "amount_best = percent_difference_upper * price_per_percent * num_pacients\n",
    "amount_worst = percent_difference_lower * price_per_percent * num_pacients\n",
    "\n",
    "print(f'Best:  ${round(amount_best, 2):,.2f}')\n",
    "print(f'Worst: ${round(amount_worst, 2):,.2f}')"
   ]
  },
  {
   "cell_type": "markdown",
   "metadata": {},
   "source": [
    "# 9.0 Business performance"
   ]
  },
  {
   "cell_type": "markdown",
   "metadata": {},
   "source": [
    "\n",
    "\n",
    "\n",
    "The price of the diagnosis, paid by the client, varies according to the precision achieved by the team of specialists.\n",
    "\n",
    "| Exam Accuracy | Price          | Rules                                    | Example                         |\n",
    "|:--------------|:---------------|:-----------------------------------------|:--------------------------------|\n",
    "| Above 50%     | min \\$500\\.00  | \\+\\$500 for each additional 5% precision | Precision = 55% \\-> \\$1,000\\.00 |\n",
    "| Up to 50%     | $0\\.00         | N/A                                      | N/A                             |\n",
    "\n",
    "\n"
   ]
  },
  {
   "cell_type": "markdown",
   "metadata": {},
   "source": [
    "translating my model performance it to business numbers.\n",
    "\n",
    "| Exam Accuracy | Best Scenario    | Worst Scenario         |\n",
    "|:--------------|:-----------------|:---------------------- |\n",
    "| Our Model     | \\$165,305,455.95 | \\$147,682,954\\.67      |\n",
    "| Today         | \\$105,000,000.00 | \\$35,000,000\\.00       |  "
   ]
  },
  {
   "cell_type": "code",
   "execution_count": null,
   "metadata": {},
   "outputs": [],
   "source": []
  },
  {
   "cell_type": "code",
   "execution_count": null,
   "metadata": {},
   "outputs": [],
   "source": []
  },
  {
   "cell_type": "code",
   "execution_count": null,
   "metadata": {},
   "outputs": [],
   "source": []
  },
  {
   "cell_type": "code",
   "execution_count": null,
   "metadata": {},
   "outputs": [],
   "source": []
  },
  {
   "cell_type": "code",
   "execution_count": null,
   "metadata": {},
   "outputs": [],
   "source": []
  },
  {
   "cell_type": "code",
   "execution_count": null,
   "metadata": {},
   "outputs": [],
   "source": []
  },
  {
   "cell_type": "code",
   "execution_count": null,
   "metadata": {},
   "outputs": [],
   "source": []
  },
  {
   "cell_type": "code",
   "execution_count": null,
   "metadata": {},
   "outputs": [],
   "source": []
  },
  {
   "cell_type": "code",
   "execution_count": null,
   "metadata": {},
   "outputs": [],
   "source": []
  }
 ],
 "metadata": {
  "kernelspec": {
   "display_name": "Python 3",
   "language": "python",
   "name": "python3"
  },
  "language_info": {
   "codemirror_mode": {
    "name": "ipython",
    "version": 3
   },
   "file_extension": ".py",
   "mimetype": "text/x-python",
   "name": "python",
   "nbconvert_exporter": "python",
   "pygments_lexer": "ipython3",
   "version": "3.7.6"
  }
 },
 "nbformat": 4,
 "nbformat_minor": 2
}
